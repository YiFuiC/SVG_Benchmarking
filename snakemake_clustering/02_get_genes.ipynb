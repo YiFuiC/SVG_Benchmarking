{
 "cells": [
  {
   "cell_type": "code",
   "execution_count": 1,
   "id": "6f6c4743-1674-49d4-9964-f70494e55d63",
   "metadata": {},
   "outputs": [],
   "source": [
    "import warnings\n",
    "warnings.filterwarnings(action='ignore')\n",
    "\n",
    "import os\n",
    "import scanpy as sc\n",
    "import squidpy as sq\n",
    "import pandas as pd"
   ]
  },
  {
   "cell_type": "code",
   "execution_count": 2,
   "id": "283e13e9-9235-43a5-8788-82f1b469629d",
   "metadata": {},
   "outputs": [],
   "source": [
    "input_dir = '../../results/05_snakemake_clustering/output/svg'\n",
    "out_dir = '../../results/05_snakemake_clustering/02_get_genes'"
   ]
  },
  {
   "cell_type": "code",
   "execution_count": 3,
   "id": "3cba47d5-bd4f-493d-830b-03a54e8a643f",
   "metadata": {},
   "outputs": [],
   "source": [
    "os.makedirs(out_dir, exist_ok=True)"
   ]
  },
  {
   "cell_type": "code",
   "execution_count": 4,
   "id": "52168ae1-72e8-4b95-9ccd-5c4d51850ae0",
   "metadata": {},
   "outputs": [],
   "source": [
    "method_list = ['nnSVG', 'Spanve',  'SPARK-X', 'SPARK', 'SpatialDE2',\n",
    "               'SpatialDE', 'SOMDE', 'MoranI', 'scGCO', 'SpaGCN',\n",
    "               'SpaGFT', 'GPcounts', 'Sepal', 'BOOST-GP']\n",
    "\n",
    "dataset_list = ['151507', '151508', '151509', '151510', '151669', '151670', \n",
    "                '151671', '151672', '151673', '151674', '151675', '151676']"
   ]
  },
  {
   "cell_type": "code",
   "execution_count": 5,
   "id": "6a2f3f18-dd98-4b85-9764-01c8302f62fc",
   "metadata": {},
   "outputs": [],
   "source": [
    "def get_genes(df, method, n_svgs):\n",
    "    if method == 'nnSVG':\n",
    "        df = df.sort_values(['LR_stat'], ascending=False)\n",
    "        df = df.head(n_svgs).reset_index()\n",
    "        df = df[['gene_id']]\n",
    "        \n",
    "    elif method == 'Spanve':\n",
    "        df = df.sort_values(['ent'], ascending=False)\n",
    "        df = df.head(n_svgs).reset_index()\n",
    "        df = df[['Unnamed: 0']]\n",
    "    \n",
    "    elif method == 'SPARK-X':\n",
    "        df = df.sort_values(['adjustedPval'])\n",
    "        df = df.head(n_svgs).reset_index()\n",
    "        df = df[['Unnamed: 0']]\n",
    "    \n",
    "    elif method == 'SPARK':\n",
    "        df = df.sort_values(['adjusted_pvalue'])\n",
    "        df = df.head(n_svgs).reset_index()\n",
    "        df = df[['Unnamed: 0']]\n",
    "        \n",
    "    elif method == 'SpatialDE2':\n",
    "        df = df.sort_values(['FSV'], ascending=False)\n",
    "        df = df.head(n_svgs).reset_index()\n",
    "        df = df[['Unnamed: 0']]\n",
    "    \n",
    "    elif method == 'SpatialDE':\n",
    "        df = df.sort_values(['FSV'], ascending=False)\n",
    "        df = df.head(n_svgs).reset_index()\n",
    "        df = df[['Unnamed: 0']]\n",
    "        \n",
    "    elif method == 'SOMDE':\n",
    "        df = df.sort_values(['FSV'], ascending=False)\n",
    "        df = df.head(n_svgs).reset_index()\n",
    "        df = df[['Unnamed: 0']]\n",
    "        \n",
    "    elif method == 'MoranI':\n",
    "        df = df.sort_values(['I'], ascending=False)\n",
    "        df = df.head(n_svgs).reset_index()\n",
    "        df = df[['Unnamed: 0']]\n",
    "        \n",
    "    elif method == 'scGCO':\n",
    "        df = df.sort_values(['fdr'])\n",
    "        df = df.head(n_svgs).reset_index()\n",
    "        df = df[['Unnamed: 0']]\n",
    "        \n",
    "    elif method == 'SpaGCN':\n",
    "        df = df.sort_values(['pvals_adj'])\n",
    "        df = df.head(n_svgs).reset_index()\n",
    "        df = df[['Unnamed: 0']]\n",
    "\n",
    "    elif method == 'SpaGFT':\n",
    "        df = df.sort_values(['gft_score'], ascending=False)\n",
    "        df = df.head(n_svgs).reset_index()\n",
    "        df = df[['Unnamed: 0']]\n",
    "\n",
    "    elif method == 'GPcounts':\n",
    "        df['log_likelihood_ratio'] = df['log_likelihood_ratio'].fillna(0)\n",
    "        df = df.sort_values(['log_likelihood_ratio'], ascending=False)\n",
    "        df = df.head(n_svgs).reset_index()\n",
    "        df = df[['Unnamed: 0']]\n",
    "    \n",
    "    elif method == 'Sepal':\n",
    "        df = df.sort_values(['sepal_score'], ascending=False)\n",
    "        df = df.head(n_svgs).reset_index()\n",
    "        df = df[['Unnamed: 0']]\n",
    "        \n",
    "    elif method == 'BOOST-GP':\n",
    "        df = df.sort_values(['PPI'], ascending=False)\n",
    "        df = df.head(n_svgs).reset_index()\n",
    "        df = df[['Unnamed: 0']]\n",
    "    else:\n",
    "        print(f'unknown method: {method}')\n",
    "        \n",
    "    return df"
   ]
  },
  {
   "cell_type": "code",
   "execution_count": 6,
   "id": "41195d9b-f46b-4c39-8501-0da887bbc374",
   "metadata": {},
   "outputs": [],
   "source": [
    "for n_svgs in [500, 1000, 1500, 2000]:\n",
    "    for method in method_list:\n",
    "        os.makedirs(f'{out_dir}/{method}', exist_ok=True)\n",
    "\n",
    "        for dataset in dataset_list:\n",
    "            input_filename = f'{input_dir}/{method}/{dataset}.csv'\n",
    "\n",
    "            df = pd.read_csv(input_filename)\n",
    "            df = get_genes(df, method, n_svgs=n_svgs)\n",
    "            df.columns = ['gene']\n",
    "            df.to_csv(f'{out_dir}/{method}/{dataset}_{n_svgs}.csv', header=True, index=False)"
   ]
  },
  {
   "cell_type": "code",
   "execution_count": 7,
   "id": "11ed9b0f-b40f-46c7-bdbf-08aa56aaf609",
   "metadata": {},
   "outputs": [],
   "source": [
    "# get HVGs as control\n",
    "os.makedirs(f'{out_dir}/HVG', exist_ok=True)\n",
    "\n",
    "for n_genes in [500, 1000, 1500, 2000]:\n",
    "    for dataset in dataset_list:\n",
    "        adata = sc.read_h5ad(f\"../../results/05_snakemake_clustering/data/{dataset}.h5ad\")\n",
    "        sc.pp.highly_variable_genes(adata, n_top_genes=n_genes, layer='counts', flavor='seurat_v3')\n",
    "        df = adata.var[adata.var['highly_variable']]\n",
    "        df = df.reset_index()\n",
    "        df = df[['index']]\n",
    "        df.columns = ['gene']\n",
    "        df.to_csv(f'{out_dir}/HVG/{dataset}_{n_genes}.csv', header=True, index=False)"
   ]
  },
  {
   "cell_type": "code",
   "execution_count": null,
   "id": "f84ba553-6416-4d89-ae59-66ee1517496a",
   "metadata": {},
   "outputs": [],
   "source": []
  }
 ],
 "metadata": {
  "kernelspec": {
   "display_name": "Python [conda env:zl_svg]",
   "language": "python",
   "name": "conda-env-zl_svg-py"
  },
  "language_info": {
   "codemirror_mode": {
    "name": "ipython",
    "version": 3
   },
   "file_extension": ".py",
   "mimetype": "text/x-python",
   "name": "python",
   "nbconvert_exporter": "python",
   "pygments_lexer": "ipython3",
   "version": "3.10.13"
  }
 },
 "nbformat": 4,
 "nbformat_minor": 5
}

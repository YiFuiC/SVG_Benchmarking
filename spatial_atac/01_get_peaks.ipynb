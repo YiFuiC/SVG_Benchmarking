{
 "cells": [
  {
   "cell_type": "code",
   "execution_count": 2,
   "id": "1e4dcb77-381e-4585-ae34-166641e070cf",
   "metadata": {},
   "outputs": [],
   "source": [
    "import warnings\n",
    "warnings.filterwarnings(action='ignore')\n",
    "\n",
    "import os\n",
    "import scanpy as sc\n",
    "import squidpy as sq\n",
    "import pandas as pd"
   ]
  },
  {
   "cell_type": "code",
   "execution_count": 3,
   "id": "a7e2ec98-4c2a-4566-86ae-72e6d2ad6ae8",
   "metadata": {},
   "outputs": [],
   "source": [
    "input_dir = '/data/pinello/PROJECTS/2023_03_SVGBenchmarking/workflow/results/spatial_atac'\n",
    "out_dir = '../../results/09_spatial_atac/01_get_peaks'"
   ]
  },
  {
   "cell_type": "code",
   "execution_count": 4,
   "id": "253012e8-65d4-4f76-8f10-edfdb7d3825a",
   "metadata": {},
   "outputs": [],
   "source": [
    "os.makedirs(out_dir, exist_ok=True)"
   ]
  },
  {
   "cell_type": "code",
   "execution_count": 6,
   "id": "16594059-fe0e-4cef-9850-57e28d1dd99b",
   "metadata": {},
   "outputs": [],
   "source": [
    "method_list = ['nnSVG', 'Spanve',  'SPARK-X', 'SpatialDE2',\n",
    "               'SpatialDE', 'SOMDE', 'MoranI', 'scGCO', 'SpaGCN',\n",
    "               'SpaGFT', 'Sepal']\n",
    "\n",
    "dataset_list = ['E12_5_rep1', 'E12_5_rep2', \n",
    "                'E13_5_rep2', 'E15_5_rep1', 'E15_5_rep2']"
   ]
  },
  {
   "cell_type": "code",
   "execution_count": 7,
   "id": "e56d3d78-fdac-4f37-8098-4b71601ca710",
   "metadata": {},
   "outputs": [],
   "source": [
    "def get_peaks(df, method, n_svgs=20000):\n",
    "    if method == 'nnSVG':\n",
    "        df = df.sort_values(['prop_sv'], ascending=False)\n",
    "        df = df.head(n_svgs).reset_index()\n",
    "        df = df[['gene_id']]\n",
    "        \n",
    "    elif method == 'Spanve':\n",
    "        df = df.sort_values(['ent'], ascending=False)\n",
    "        df = df.head(n_svgs).reset_index()\n",
    "        df = df[['Unnamed: 0']]\n",
    "    \n",
    "    elif method == 'SPARK-X':\n",
    "        df = df.sort_values(['adjustedPval'])\n",
    "        df = df.head(n_svgs).reset_index()\n",
    "        df = df[['Unnamed: 0']]\n",
    "    \n",
    "    elif method == 'SPARK':\n",
    "        df = df.sort_values(['adjusted_pvalue'])\n",
    "        df = df.head(n_svgs).reset_index()\n",
    "        df = df[['Unnamed: 0']]\n",
    "        \n",
    "    elif method == 'SpatialDE2':\n",
    "        df = df.sort_values(['FSV'], ascending=False)\n",
    "        df = df.head(n_svgs).reset_index()\n",
    "        df = df[['Unnamed: 0']]\n",
    "    \n",
    "    elif method == 'SpatialDE':\n",
    "        df = df.sort_values(['FSV'], ascending=False)\n",
    "        df = df.head(n_svgs).reset_index()\n",
    "        df = df[['Unnamed: 0']]\n",
    "        \n",
    "    elif method == 'SOMDE':\n",
    "        df = df.sort_values(['FSV'], ascending=False)\n",
    "        df = df.head(n_svgs).reset_index()\n",
    "        df = df[['Unnamed: 0']]\n",
    "        \n",
    "    elif method == 'MoranI':\n",
    "        df = df.sort_values(['I'], ascending=False)\n",
    "        df = df.head(n_svgs).reset_index()\n",
    "        df = df[['Unnamed: 0']]\n",
    "        \n",
    "    elif method == 'scGCO':\n",
    "        df = df.sort_values(['fdr'])\n",
    "        df = df.head(n_svgs).reset_index()\n",
    "        df = df[['Unnamed: 0']]\n",
    "        \n",
    "    elif method == 'SpaGCN':\n",
    "        df = df.sort_values(['pvals_adj'])\n",
    "        df = df.head(n_svgs).reset_index()\n",
    "        df = df[['Unnamed: 0']]\n",
    "\n",
    "    elif method == 'SpaGFT':\n",
    "        df = df.sort_values(['gft_score'], ascending=False)\n",
    "        df = df.head(n_svgs).reset_index()\n",
    "        df = df[['Unnamed: 0']]\n",
    "\n",
    "    elif method == 'GPcounts':\n",
    "        df['log_likelihood_ratio'] = df['log_likelihood_ratio'].fillna(0)\n",
    "        df = df.sort_values(['log_likelihood_ratio'], ascending=False)\n",
    "        df = df.head(n_svgs).reset_index()\n",
    "        df = df[['Unnamed: 0']]\n",
    "    \n",
    "    elif method == 'Sepal':\n",
    "        df = df.sort_values(['sepal_score'], ascending=False)\n",
    "        df = df.head(n_svgs).reset_index()\n",
    "        df = df[['Unnamed: 0']]\n",
    "        \n",
    "    elif method == 'BOOST-GP':\n",
    "        df = df.sort_values(['PPI'], ascending=False)\n",
    "        df = df.head(n_svgs).reset_index()\n",
    "        df = df[['Unnamed: 0']]\n",
    "    else:\n",
    "        print(f'unknown method: {method}')\n",
    "        \n",
    "    return df"
   ]
  },
  {
   "cell_type": "code",
   "execution_count": 9,
   "id": "851ead50-c894-4080-bd94-6127edcdd360",
   "metadata": {},
   "outputs": [],
   "source": [
    "for method in method_list:\n",
    "    os.makedirs(f'{out_dir}/{method}', exist_ok=True)\n",
    "    \n",
    "    for dataset in dataset_list:\n",
    "        input_filename = f'{input_dir}/{method}/{dataset}.csv'\n",
    "        \n",
    "        if not os.path.exists(input_filename):\n",
    "            print(input_filename)\n",
    "            continue\n",
    "        \n",
    "        df = pd.read_csv(input_filename)\n",
    "        df = get_peaks(df, method)\n",
    "        df.columns = ['peak']\n",
    "        df.to_csv(f'{out_dir}/{method}/{dataset}.csv', header=True, index=False)"
   ]
  },
  {
   "cell_type": "code",
   "execution_count": null,
   "id": "12918e7c-27fa-4985-b377-2e965e9bdd65",
   "metadata": {},
   "outputs": [],
   "source": []
  }
 ],
 "metadata": {
  "kernelspec": {
   "display_name": "Python [conda env:zl_svg]",
   "language": "python",
   "name": "conda-env-zl_svg-py"
  },
  "language_info": {
   "codemirror_mode": {
    "name": "ipython",
    "version": 3
   },
   "file_extension": ".py",
   "mimetype": "text/x-python",
   "name": "python",
   "nbconvert_exporter": "python",
   "pygments_lexer": "ipython3",
   "version": "3.10.13"
  }
 },
 "nbformat": 4,
 "nbformat_minor": 5
}

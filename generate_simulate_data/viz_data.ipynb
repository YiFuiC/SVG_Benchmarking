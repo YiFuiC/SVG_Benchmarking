{
 "cells": [
  {
   "cell_type": "code",
   "execution_count": null,
   "id": "c1eb094f-2649-4e81-ad23-4ede1f506587",
   "metadata": {},
   "outputs": [],
   "source": [
    "import os\n",
    "import numpy as np\n",
    "import pandas as pd\n",
    "import scanpy as sc\n",
    "import squidpy as sq\n",
    "import anndata as ad\n",
    "import scipy as sp"
   ]
  },
  {
   "cell_type": "code",
   "execution_count": null,
   "id": "54191be7-841d-4528-8eaa-a5729b1dfa4a",
   "metadata": {},
   "outputs": [],
   "source": [
    "input_dir = '../../results/01_generate_simulate_data'"
   ]
  },
  {
   "cell_type": "code",
   "execution_count": null,
   "id": "c5b49d44-4ee6-4ec9-a859-450c4194a478",
   "metadata": {},
   "outputs": [],
   "source": [
    "adata = sc.read_h5ad(f'{input_dir}/01_10x_Visium_mouse_brain.h5ad')"
   ]
  },
  {
   "cell_type": "code",
   "execution_count": 6,
   "id": "398fd988-bd31-480b-83ce-37aa3e90b0b5",
   "metadata": {},
   "outputs": [
    {
     "data": {
      "text/plain": [
       "AnnData object with n_obs × n_vars = 2688 × 1050\n",
       "    obs: 'spatial1', 'spatial2'\n",
       "    var: 'gene', 'spatial_var'\n",
       "    uns: 'log1p', 'spatial'\n",
       "    obsm: 'spatial'\n",
       "    layers: 'counts'"
      ]
     },
     "execution_count": 6,
     "metadata": {},
     "output_type": "execute_result"
    }
   ],
   "source": [
    "adata"
   ]
  },
  {
   "cell_type": "code",
   "execution_count": null,
   "id": "2839d028-db4b-4d06-b7c4-b276c223d859",
   "metadata": {},
   "outputs": [],
   "source": [
    "adata.var"
   ]
  },
  {
   "cell_type": "code",
   "execution_count": null,
   "id": "59357860-da1f-46b4-ba60-83d882f826d8",
   "metadata": {},
   "outputs": [],
   "source": [
    "sq.pl.spatial_scatter(adata, \n",
    "                      color=['Ttr_1', 'Ttr_0.8', 'Ttr_0.6', 'Ttr_0.4', 'Ttr_0.2', 'Ttr_0'],\n",
    "                      ncols=6,\n",
    "                      shape=None, size=30)"
   ]
  },
  {
   "cell_type": "code",
   "execution_count": null,
   "id": "52062b40-9781-4ae7-9ef2-866f39f8a335",
   "metadata": {},
   "outputs": [],
   "source": [
    "sc.pl.violin(adata, \n",
    "             keys=['Ttr_1', 'Ttr_0.8', 'Ttr_0.6', 'Ttr_0.4', 'Ttr_0.2', 'Ttr_0']\n",
    "            )"
   ]
  },
  {
   "cell_type": "code",
   "execution_count": null,
   "id": "276bc9fe-4fc1-4808-a4c5-fe2008cf90c5",
   "metadata": {},
   "outputs": [],
   "source": [
    "sq.pl.spatial_scatter(adata, \n",
    "                      color=['S100a5_1', 'S100a5_0.8', 'S100a5_0.6', 'S100a5_0.4', 'S100a5_0.2', 'S100a5_0'],\n",
    "                      ncols=6,\n",
    "                      shape=None, size=30)"
   ]
  },
  {
   "cell_type": "code",
   "execution_count": null,
   "id": "9dc4c7dd-ce5f-449d-bc47-0c5e44534a0a",
   "metadata": {},
   "outputs": [],
   "source": [
    "sc.pl.violin(adata, \n",
    "             keys=['S100a5_1', 'S100a5_0.8', 'S100a5_0.6', 'S100a5_0.4', 'S100a5_0.2', 'S100a5_0']\n",
    "            )"
   ]
  },
  {
   "cell_type": "code",
   "execution_count": null,
   "id": "626cf58b-9a52-4b87-9fb7-5f542970c8f1",
   "metadata": {},
   "outputs": [],
   "source": [
    "adata = sc.read_h5ad(f'{input_dir}/02_slide_seqv2_mouse_hippocampus.h5ad')"
   ]
  },
  {
   "cell_type": "code",
   "execution_count": null,
   "id": "6bbd52e3-17b0-4839-b91c-0442dd029901",
   "metadata": {},
   "outputs": [],
   "source": [
    "adata.var"
   ]
  },
  {
   "cell_type": "code",
   "execution_count": null,
   "id": "fa817033-1347-49d2-b8ed-cfb9e70484ae",
   "metadata": {},
   "outputs": [],
   "source": [
    "sq.pl.spatial_scatter(adata, \n",
    "                      color=['Mbp_1', 'Mbp_0.8', 'Mbp_0.6', 'Mbp_0.4', 'Mbp_0.2', 'Mbp_0'], \n",
    "                      ncols=6, vmax=1,\n",
    "                      shape=None, size=0.1)"
   ]
  },
  {
   "cell_type": "code",
   "execution_count": null,
   "id": "9dc1bf50-88f4-437c-a6f8-bbd024ef3330",
   "metadata": {},
   "outputs": [],
   "source": [
    "adata = sc.read_h5ad(f'{input_dir}/05_10x_Visium_Mouse_Embryo.h5ad')"
   ]
  },
  {
   "cell_type": "code",
   "execution_count": null,
   "id": "2d2994c6-7481-4d54-9147-1bcdcb09b176",
   "metadata": {},
   "outputs": [],
   "source": [
    "adata.var"
   ]
  },
  {
   "cell_type": "code",
   "execution_count": null,
   "id": "cc3e1171-b39d-4418-827f-e5020fb24dd5",
   "metadata": {},
   "outputs": [],
   "source": [
    "sq.pl.spatial_scatter(adata, \n",
    "                      color=['Fga_1', 'Fga_0.8', 'Fga_0.6', 'Fga_0.4', 'Fga_0.2', 'Fga_0',\n",
    "                             'Nsg2_1', 'Nsg2_0.8', 'Nsg2_0.6', 'Nsg2_0.4', 'Nsg2_0.2', 'Nsg2_0',\n",
    "                            'Sftpc_1', 'Sftpc_0.8', 'Sftpc_0.6', 'Sftpc_0.4', 'Sftpc_0.2', 'Sftpc_0'], \n",
    "                      shape=None, size=3, ncols=6,)"
   ]
  },
  {
   "cell_type": "code",
   "execution_count": null,
   "id": "130f0897-ab7a-4649-a9b0-fb39b2519a89",
   "metadata": {},
   "outputs": [],
   "source": [
    "adata = sc.read_h5ad(f'{input_dir}/08_10x_Visium_Human_Lymph_Node.h5ad')"
   ]
  },
  {
   "cell_type": "code",
   "execution_count": null,
   "id": "0f5a81bb-c91b-4986-8078-793ff558654c",
   "metadata": {},
   "outputs": [],
   "source": [
    "adata.layers['counts'].todense()"
   ]
  },
  {
   "cell_type": "code",
   "execution_count": null,
   "id": "6f64c033-737c-4101-aa02-eac3fe16f2a1",
   "metadata": {},
   "outputs": [],
   "source": [
    "adata.var"
   ]
  },
  {
   "cell_type": "code",
   "execution_count": null,
   "id": "4e2920ae-fef4-430d-8541-6b3eb2a897cd",
   "metadata": {},
   "outputs": [],
   "source": [
    "sq.pl.spatial_scatter(adata, \n",
    "                      color=['FDCSP_1', 'FDCSP_0.8', 'FDCSP_0.6', \n",
    "                             'FDCSP_0.4', 'FDCSP_0.2', 'FDCSP_0'], \n",
    "                      shape=None, size=6)"
   ]
  },
  {
   "cell_type": "code",
   "execution_count": null,
   "id": "e4d33053-2191-4043-8f67-d1b9c8991fdb",
   "metadata": {},
   "outputs": [],
   "source": []
  }
 ],
 "metadata": {
  "kernelspec": {
   "display_name": "Python [conda env:zl_svg]",
   "language": "python",
   "name": "conda-env-zl_svg-py"
  },
  "language_info": {
   "codemirror_mode": {
    "name": "ipython",
    "version": 3
   },
   "file_extension": ".py",
   "mimetype": "text/x-python",
   "name": "python",
   "nbconvert_exporter": "python",
   "pygments_lexer": "ipython3",
   "version": "3.10.13"
  }
 },
 "nbformat": 4,
 "nbformat_minor": 5
}
